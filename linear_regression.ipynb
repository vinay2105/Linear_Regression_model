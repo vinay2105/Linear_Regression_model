{
 "cells": [
  {
   "cell_type": "markdown",
   "id": "838ee713-d965-4f8b-ad5b-14616e50e109",
   "metadata": {},
   "source": [
    "# Linear Regression Model"
   ]
  },
  {
   "cell_type": "markdown",
   "id": "b5dfdf40-b090-4b61-b5f3-142d8604f05c",
   "metadata": {},
   "source": [
    "# Importing Dependencies"
   ]
  },
  {
   "cell_type": "code",
   "execution_count": 7,
   "id": "f70dc92a-365a-4616-804f-8051087be164",
   "metadata": {},
   "outputs": [],
   "source": [
    "import numpy as np\n",
    "import pandas as pd\n",
    "import matplotlib.pyplot as plt\n",
    "import seaborn as sns\n",
    "from sklearn.model_selection import train_test_split\n",
    "\n"
   ]
  },
  {
   "cell_type": "markdown",
   "id": "3315c555-9bae-4dea-96d6-97050dce57ea",
   "metadata": {},
   "source": [
    "# Creating Linear Regression Model"
   ]
  },
  {
   "cell_type": "code",
   "execution_count": 9,
   "id": "e064306c-d597-4340-8c06-602f1dee8504",
   "metadata": {},
   "outputs": [],
   "source": [
    "class Linear_Regression():\n",
    "    def __init__(self,learning_rate,no_of_iterations):\n",
    "        self.no_of_iterations = no_of_iterations\n",
    "        self.learning_rate = learning_rate\n",
    "        \n",
    "\n",
    "    def fit(self,X,Y):\n",
    "        self.m, self.n = X.shape\n",
    "        self.w = np.full(self.n, 0)\n",
    "        self.b = 0\n",
    "        self.X = X\n",
    "        self.Y = Y\n",
    "        for i in range(self.no_of_iterations):\n",
    "            self.update_weights()\n",
    "        \n",
    "\n",
    "    def update_weights(self):\n",
    "        Y_prediction = self.predict(self.X)\n",
    "        dw = -(2 *  (self.X.T).dot(self.Y - Y_prediction))/self.m\n",
    "        db = -(2 * np.sum(self.Y - Y_prediction))/self.m\n",
    "        self.w = self.w - self.learning_rate*dw\n",
    "        self.b = self.b - self.learning_rate*db\n",
    "\n",
    "    def predict(self, X):\n",
    "        return X.dot(self.w) + self.b\n",
    "    pass"
   ]
  },
  {
   "cell_type": "markdown",
   "id": "3e0caab6-c430-4ae3-889f-535fc9696e72",
   "metadata": {},
   "source": [
    "# Creating DataFrame using a csv file"
   ]
  },
  {
   "cell_type": "code",
   "execution_count": 11,
   "id": "81210673-2dee-43b3-9e3d-a984d192de5a",
   "metadata": {},
   "outputs": [],
   "source": [
    "data = pd.read_csv(\"world happiness dataset.csv\")"
   ]
  },
  {
   "cell_type": "code",
   "execution_count": 12,
   "id": "6bf790d5-f292-4228-aa43-7c142c23b910",
   "metadata": {},
   "outputs": [
    {
     "name": "stdout",
     "output_type": "stream",
     "text": [
      "     Overall rank         Country or region  Score  GDP per capita  \\\n",
      "0               1                   Finland  7.769           1.340   \n",
      "1               2                   Denmark  7.600           1.383   \n",
      "2               3                    Norway  7.554           1.488   \n",
      "3               4                   Iceland  7.494           1.380   \n",
      "4               5               Netherlands  7.488           1.396   \n",
      "..            ...                       ...    ...             ...   \n",
      "151           152                    Rwanda  3.334           0.359   \n",
      "152           153                  Tanzania  3.231           0.476   \n",
      "153           154               Afghanistan  3.203           0.350   \n",
      "154           155  Central African Republic  3.083           0.026   \n",
      "155           156               South Sudan  2.853           0.306   \n",
      "\n",
      "     Social support  Healthy life expectancy  Freedom to make life choices  \\\n",
      "0             1.587                    0.986                         0.596   \n",
      "1             1.573                    0.996                         0.592   \n",
      "2             1.582                    1.028                         0.603   \n",
      "3             1.624                    1.026                         0.591   \n",
      "4             1.522                    0.999                         0.557   \n",
      "..              ...                      ...                           ...   \n",
      "151           0.711                    0.614                         0.555   \n",
      "152           0.885                    0.499                         0.417   \n",
      "153           0.517                    0.361                         0.000   \n",
      "154           0.000                    0.105                         0.225   \n",
      "155           0.575                    0.295                         0.010   \n",
      "\n",
      "     Generosity  Perceptions of corruption  \n",
      "0         0.153                      0.393  \n",
      "1         0.252                      0.410  \n",
      "2         0.271                      0.341  \n",
      "3         0.354                      0.118  \n",
      "4         0.322                      0.298  \n",
      "..          ...                        ...  \n",
      "151       0.217                      0.411  \n",
      "152       0.276                      0.147  \n",
      "153       0.158                      0.025  \n",
      "154       0.235                      0.035  \n",
      "155       0.202                      0.091  \n",
      "\n",
      "[156 rows x 9 columns]\n"
     ]
    }
   ],
   "source": [
    "print(data)"
   ]
  },
  {
   "cell_type": "code",
   "execution_count": 16,
   "id": "e2e5fe5d-35ed-47e2-9d24-2b9bbc2d50bc",
   "metadata": {},
   "outputs": [
    {
     "data": {
      "text/html": [
       "<div>\n",
       "<style scoped>\n",
       "    .dataframe tbody tr th:only-of-type {\n",
       "        vertical-align: middle;\n",
       "    }\n",
       "\n",
       "    .dataframe tbody tr th {\n",
       "        vertical-align: top;\n",
       "    }\n",
       "\n",
       "    .dataframe thead th {\n",
       "        text-align: right;\n",
       "    }\n",
       "</style>\n",
       "<table border=\"1\" class=\"dataframe\">\n",
       "  <thead>\n",
       "    <tr style=\"text-align: right;\">\n",
       "      <th></th>\n",
       "      <th>Overall rank</th>\n",
       "      <th>Country or region</th>\n",
       "      <th>Score</th>\n",
       "      <th>GDP per capita</th>\n",
       "      <th>Social support</th>\n",
       "      <th>Healthy life expectancy</th>\n",
       "      <th>Freedom to make life choices</th>\n",
       "      <th>Generosity</th>\n",
       "      <th>Perceptions of corruption</th>\n",
       "    </tr>\n",
       "  </thead>\n",
       "  <tbody>\n",
       "    <tr>\n",
       "      <th>0</th>\n",
       "      <td>1</td>\n",
       "      <td>Finland</td>\n",
       "      <td>7.769</td>\n",
       "      <td>1.340</td>\n",
       "      <td>1.587</td>\n",
       "      <td>0.986</td>\n",
       "      <td>0.596</td>\n",
       "      <td>0.153</td>\n",
       "      <td>0.393</td>\n",
       "    </tr>\n",
       "    <tr>\n",
       "      <th>1</th>\n",
       "      <td>2</td>\n",
       "      <td>Denmark</td>\n",
       "      <td>7.600</td>\n",
       "      <td>1.383</td>\n",
       "      <td>1.573</td>\n",
       "      <td>0.996</td>\n",
       "      <td>0.592</td>\n",
       "      <td>0.252</td>\n",
       "      <td>0.410</td>\n",
       "    </tr>\n",
       "    <tr>\n",
       "      <th>2</th>\n",
       "      <td>3</td>\n",
       "      <td>Norway</td>\n",
       "      <td>7.554</td>\n",
       "      <td>1.488</td>\n",
       "      <td>1.582</td>\n",
       "      <td>1.028</td>\n",
       "      <td>0.603</td>\n",
       "      <td>0.271</td>\n",
       "      <td>0.341</td>\n",
       "    </tr>\n",
       "    <tr>\n",
       "      <th>3</th>\n",
       "      <td>4</td>\n",
       "      <td>Iceland</td>\n",
       "      <td>7.494</td>\n",
       "      <td>1.380</td>\n",
       "      <td>1.624</td>\n",
       "      <td>1.026</td>\n",
       "      <td>0.591</td>\n",
       "      <td>0.354</td>\n",
       "      <td>0.118</td>\n",
       "    </tr>\n",
       "    <tr>\n",
       "      <th>4</th>\n",
       "      <td>5</td>\n",
       "      <td>Netherlands</td>\n",
       "      <td>7.488</td>\n",
       "      <td>1.396</td>\n",
       "      <td>1.522</td>\n",
       "      <td>0.999</td>\n",
       "      <td>0.557</td>\n",
       "      <td>0.322</td>\n",
       "      <td>0.298</td>\n",
       "    </tr>\n",
       "  </tbody>\n",
       "</table>\n",
       "</div>"
      ],
      "text/plain": [
       "   Overall rank Country or region  Score  GDP per capita  Social support  \\\n",
       "0             1           Finland  7.769           1.340           1.587   \n",
       "1             2           Denmark  7.600           1.383           1.573   \n",
       "2             3            Norway  7.554           1.488           1.582   \n",
       "3             4           Iceland  7.494           1.380           1.624   \n",
       "4             5       Netherlands  7.488           1.396           1.522   \n",
       "\n",
       "   Healthy life expectancy  Freedom to make life choices  Generosity  \\\n",
       "0                    0.986                         0.596       0.153   \n",
       "1                    0.996                         0.592       0.252   \n",
       "2                    1.028                         0.603       0.271   \n",
       "3                    1.026                         0.591       0.354   \n",
       "4                    0.999                         0.557       0.322   \n",
       "\n",
       "   Perceptions of corruption  \n",
       "0                      0.393  \n",
       "1                      0.410  \n",
       "2                      0.341  \n",
       "3                      0.118  \n",
       "4                      0.298  "
      ]
     },
     "execution_count": 16,
     "metadata": {},
     "output_type": "execute_result"
    }
   ],
   "source": [
    "data.head()"
   ]
  },
  {
   "cell_type": "code",
   "execution_count": 19,
   "id": "73c026c3-d818-4eb6-ae2f-48e22264649e",
   "metadata": {},
   "outputs": [
    {
     "data": {
      "text/html": [
       "<div>\n",
       "<style scoped>\n",
       "    .dataframe tbody tr th:only-of-type {\n",
       "        vertical-align: middle;\n",
       "    }\n",
       "\n",
       "    .dataframe tbody tr th {\n",
       "        vertical-align: top;\n",
       "    }\n",
       "\n",
       "    .dataframe thead th {\n",
       "        text-align: right;\n",
       "    }\n",
       "</style>\n",
       "<table border=\"1\" class=\"dataframe\">\n",
       "  <thead>\n",
       "    <tr style=\"text-align: right;\">\n",
       "      <th></th>\n",
       "      <th>Overall rank</th>\n",
       "      <th>Country or region</th>\n",
       "      <th>Score</th>\n",
       "      <th>GDP per capita</th>\n",
       "      <th>Social support</th>\n",
       "      <th>Healthy life expectancy</th>\n",
       "      <th>Freedom to make life choices</th>\n",
       "      <th>Generosity</th>\n",
       "      <th>Perceptions of corruption</th>\n",
       "    </tr>\n",
       "  </thead>\n",
       "  <tbody>\n",
       "    <tr>\n",
       "      <th>151</th>\n",
       "      <td>152</td>\n",
       "      <td>Rwanda</td>\n",
       "      <td>3.334</td>\n",
       "      <td>0.359</td>\n",
       "      <td>0.711</td>\n",
       "      <td>0.614</td>\n",
       "      <td>0.555</td>\n",
       "      <td>0.217</td>\n",
       "      <td>0.411</td>\n",
       "    </tr>\n",
       "    <tr>\n",
       "      <th>152</th>\n",
       "      <td>153</td>\n",
       "      <td>Tanzania</td>\n",
       "      <td>3.231</td>\n",
       "      <td>0.476</td>\n",
       "      <td>0.885</td>\n",
       "      <td>0.499</td>\n",
       "      <td>0.417</td>\n",
       "      <td>0.276</td>\n",
       "      <td>0.147</td>\n",
       "    </tr>\n",
       "    <tr>\n",
       "      <th>153</th>\n",
       "      <td>154</td>\n",
       "      <td>Afghanistan</td>\n",
       "      <td>3.203</td>\n",
       "      <td>0.350</td>\n",
       "      <td>0.517</td>\n",
       "      <td>0.361</td>\n",
       "      <td>0.000</td>\n",
       "      <td>0.158</td>\n",
       "      <td>0.025</td>\n",
       "    </tr>\n",
       "    <tr>\n",
       "      <th>154</th>\n",
       "      <td>155</td>\n",
       "      <td>Central African Republic</td>\n",
       "      <td>3.083</td>\n",
       "      <td>0.026</td>\n",
       "      <td>0.000</td>\n",
       "      <td>0.105</td>\n",
       "      <td>0.225</td>\n",
       "      <td>0.235</td>\n",
       "      <td>0.035</td>\n",
       "    </tr>\n",
       "    <tr>\n",
       "      <th>155</th>\n",
       "      <td>156</td>\n",
       "      <td>South Sudan</td>\n",
       "      <td>2.853</td>\n",
       "      <td>0.306</td>\n",
       "      <td>0.575</td>\n",
       "      <td>0.295</td>\n",
       "      <td>0.010</td>\n",
       "      <td>0.202</td>\n",
       "      <td>0.091</td>\n",
       "    </tr>\n",
       "  </tbody>\n",
       "</table>\n",
       "</div>"
      ],
      "text/plain": [
       "     Overall rank         Country or region  Score  GDP per capita  \\\n",
       "151           152                    Rwanda  3.334           0.359   \n",
       "152           153                  Tanzania  3.231           0.476   \n",
       "153           154               Afghanistan  3.203           0.350   \n",
       "154           155  Central African Republic  3.083           0.026   \n",
       "155           156               South Sudan  2.853           0.306   \n",
       "\n",
       "     Social support  Healthy life expectancy  Freedom to make life choices  \\\n",
       "151           0.711                    0.614                         0.555   \n",
       "152           0.885                    0.499                         0.417   \n",
       "153           0.517                    0.361                         0.000   \n",
       "154           0.000                    0.105                         0.225   \n",
       "155           0.575                    0.295                         0.010   \n",
       "\n",
       "     Generosity  Perceptions of corruption  \n",
       "151       0.217                      0.411  \n",
       "152       0.276                      0.147  \n",
       "153       0.158                      0.025  \n",
       "154       0.235                      0.035  \n",
       "155       0.202                      0.091  "
      ]
     },
     "execution_count": 19,
     "metadata": {},
     "output_type": "execute_result"
    }
   ],
   "source": [
    "data.tail()"
   ]
  },
  {
   "cell_type": "markdown",
   "id": "3d3c7db6-fa3f-47f3-9c20-5828ef4e36b4",
   "metadata": {},
   "source": [
    "# Splitting the target and feature"
   ]
  },
  {
   "cell_type": "code",
   "execution_count": 22,
   "id": "27a607a0-ef2e-4fc1-aa77-d60455876a53",
   "metadata": {},
   "outputs": [],
   "source": [
    "X = data.iloc[:,3:-3].values\n",
    "Y = data[\"Score\"].values"
   ]
  },
  {
   "cell_type": "code",
   "execution_count": 24,
   "id": "f951a9dd-b08e-45fc-85db-79ede74182f8",
   "metadata": {},
   "outputs": [
    {
     "name": "stdout",
     "output_type": "stream",
     "text": [
      "[[1.34  1.587 0.986]\n",
      " [1.383 1.573 0.996]\n",
      " [1.488 1.582 1.028]\n",
      " [1.38  1.624 1.026]\n",
      " [1.396 1.522 0.999]\n",
      " [1.452 1.526 1.052]\n",
      " [1.387 1.487 1.009]\n",
      " [1.303 1.557 1.026]\n",
      " [1.365 1.505 1.039]\n",
      " [1.376 1.475 1.016]\n",
      " [1.372 1.548 1.036]\n",
      " [1.034 1.441 0.963]\n",
      " [1.276 1.455 1.029]\n",
      " [1.609 1.479 1.012]\n",
      " [1.333 1.538 0.996]\n",
      " [1.499 1.553 0.999]\n",
      " [1.373 1.454 0.987]\n",
      " [1.356 1.504 0.986]\n",
      " [1.433 1.457 0.874]\n",
      " [1.269 1.487 0.92 ]\n",
      " [1.503 1.31  0.825]\n",
      " [1.3   1.52  0.999]\n",
      " [1.07  1.323 0.861]\n",
      " [1.324 1.472 1.045]\n",
      " [1.368 1.43  0.914]\n",
      " [1.159 1.369 0.92 ]\n",
      " [0.8   1.269 0.746]\n",
      " [1.403 1.357 0.795]\n",
      " [1.684 1.313 0.871]\n",
      " [1.286 1.484 1.062]\n",
      " [1.149 1.442 0.91 ]\n",
      " [1.004 1.439 0.802]\n",
      " [1.124 1.465 0.891]\n",
      " [1.572 1.463 1.141]\n",
      " [0.794 1.242 0.789]\n",
      " [1.294 1.488 1.039]\n",
      " [1.362 1.368 0.871]\n",
      " [1.246 1.504 0.881]\n",
      " [1.231 1.477 0.713]\n",
      " [1.206 1.438 0.884]\n",
      " [0.745 1.529 0.756]\n",
      " [1.238 1.515 0.818]\n",
      " [0.985 1.41  0.841]\n",
      " [1.258 1.523 0.953]\n",
      " [0.694 1.325 0.835]\n",
      " [0.882 1.232 0.758]\n",
      " [1.092 1.432 0.881]\n",
      " [1.162 1.232 0.825]\n",
      " [1.263 1.223 1.042]\n",
      " [0.912 1.312 0.868]\n",
      " [1.5   1.319 0.808]\n",
      " [1.05  1.409 0.828]\n",
      " [1.187 1.465 0.812]\n",
      " [1.301 1.219 1.036]\n",
      " [1.237 1.528 0.874]\n",
      " [0.831 1.478 0.831]\n",
      " [1.12  1.402 0.798]\n",
      " [1.327 1.419 1.088]\n",
      " [0.642 1.236 0.828]\n",
      " [1.173 1.508 0.729]\n",
      " [0.776 1.209 0.706]\n",
      " [1.201 1.41  0.828]\n",
      " [0.855 1.475 0.777]\n",
      " [1.263 1.252 1.042]\n",
      " [0.96  1.274 0.854]\n",
      " [1.221 1.431 0.999]\n",
      " [0.677 0.886 0.535]\n",
      " [1.183 1.452 0.726]\n",
      " [0.807 1.293 0.657]\n",
      " [1.004 1.383 0.854]\n",
      " [0.685 1.328 0.739]\n",
      " [1.044 1.303 0.673]\n",
      " [1.051 1.361 0.871]\n",
      " [0.493 1.098 0.718]\n",
      " [1.155 1.266 0.914]\n",
      " [1.438 1.277 1.122]\n",
      " [1.015 1.401 0.779]\n",
      " [0.945 1.212 0.845]\n",
      " [1.183 1.36  0.808]\n",
      " [1.221 1.171 0.828]\n",
      " [1.067 1.465 0.789]\n",
      " [1.181 1.156 0.999]\n",
      " [0.948 1.531 0.667]\n",
      " [0.983 1.294 0.838]\n",
      " [0.696 1.111 0.245]\n",
      " [0.551 1.438 0.723]\n",
      " [1.052 1.538 0.657]\n",
      " [1.002 1.16  0.785]\n",
      " [0.801 0.782 0.782]\n",
      " [1.043 1.147 0.769]\n",
      " [0.987 1.224 0.815]\n",
      " [0.931 1.203 0.66 ]\n",
      " [1.029 1.125 0.893]\n",
      " [0.741 1.346 0.851]\n",
      " [0.813 1.321 0.604]\n",
      " [0.549 0.91  0.331]\n",
      " [1.092 1.513 0.815]\n",
      " [0.611 0.868 0.486]\n",
      " [0.569 0.808 0.232]\n",
      " [0.446 1.226 0.677]\n",
      " [0.837 1.225 0.815]\n",
      " [0.393 0.437 0.397]\n",
      " [0.673 0.799 0.508]\n",
      " [1.057 1.183 0.571]\n",
      " [0.764 1.03  0.551]\n",
      " [0.96  1.351 0.469]\n",
      " [0.947 0.848 0.874]\n",
      " [0.96  1.427 0.805]\n",
      " [0.574 1.122 0.637]\n",
      " [0.657 1.247 0.672]\n",
      " [0.45  1.134 0.571]\n",
      " [0.    0.698 0.268]\n",
      " [0.879 1.313 0.477]\n",
      " [0.138 0.774 0.366]\n",
      " [0.331 1.056 0.38 ]\n",
      " [0.85  1.055 0.815]\n",
      " [1.1   0.842 0.785]\n",
      " [0.38  0.829 0.375]\n",
      " [0.886 0.666 0.752]\n",
      " [0.308 0.939 0.428]\n",
      " [0.512 0.983 0.581]\n",
      " [0.57  1.167 0.489]\n",
      " [0.204 0.986 0.39 ]\n",
      " [0.921 1.    0.815]\n",
      " [0.562 0.928 0.723]\n",
      " [1.043 0.98  0.574]\n",
      " [0.094 1.125 0.357]\n",
      " [0.385 1.105 0.308]\n",
      " [0.268 0.841 0.242]\n",
      " [0.949 1.265 0.831]\n",
      " [0.71  1.181 0.555]\n",
      " [0.35  0.766 0.192]\n",
      " [0.82  1.39  0.739]\n",
      " [0.336 1.033 0.532]\n",
      " [0.811 1.149 0.   ]\n",
      " [0.332 1.069 0.443]\n",
      " [0.913 1.039 0.644]\n",
      " [0.578 1.058 0.426]\n",
      " [0.275 0.572 0.41 ]\n",
      " [0.755 0.765 0.588]\n",
      " [0.073 0.922 0.443]\n",
      " [0.274 0.757 0.505]\n",
      " [0.274 0.916 0.555]\n",
      " [0.489 1.169 0.168]\n",
      " [0.046 0.447 0.38 ]\n",
      " [0.366 1.114 0.433]\n",
      " [0.323 0.688 0.449]\n",
      " [1.041 1.145 0.538]\n",
      " [0.619 0.378 0.44 ]\n",
      " [0.191 0.56  0.495]\n",
      " [0.287 1.163 0.463]\n",
      " [0.359 0.711 0.614]\n",
      " [0.476 0.885 0.499]\n",
      " [0.35  0.517 0.361]\n",
      " [0.026 0.    0.105]\n",
      " [0.306 0.575 0.295]]\n"
     ]
    }
   ],
   "source": [
    "print(X)"
   ]
  },
  {
   "cell_type": "code",
   "execution_count": 26,
   "id": "3e4b3051-19f5-492a-94e5-29e695903bbf",
   "metadata": {},
   "outputs": [
    {
     "name": "stdout",
     "output_type": "stream",
     "text": [
      "[7.769 7.6   7.554 7.494 7.488 7.48  7.343 7.307 7.278 7.246 7.228 7.167\n",
      " 7.139 7.09  7.054 7.021 6.985 6.923 6.892 6.852 6.825 6.726 6.595 6.592\n",
      " 6.446 6.444 6.436 6.375 6.374 6.354 6.321 6.3   6.293 6.262 6.253 6.223\n",
      " 6.199 6.198 6.192 6.182 6.174 6.149 6.125 6.118 6.105 6.1   6.086 6.07\n",
      " 6.046 6.028 6.021 6.008 5.94  5.895 5.893 5.89  5.888 5.886 5.86  5.809\n",
      " 5.779 5.758 5.743 5.718 5.697 5.693 5.653 5.648 5.631 5.603 5.529 5.525\n",
      " 5.523 5.467 5.432 5.43  5.425 5.386 5.373 5.339 5.323 5.287 5.285 5.274\n",
      " 5.265 5.261 5.247 5.211 5.208 5.208 5.197 5.192 5.191 5.175 5.082 5.044\n",
      " 5.011 4.996 4.944 4.913 4.906 4.883 4.812 4.799 4.796 4.722 4.719 4.707\n",
      " 4.7   4.696 4.681 4.668 4.639 4.628 4.587 4.559 4.548 4.534 4.519 4.516\n",
      " 4.509 4.49  4.466 4.461 4.456 4.437 4.418 4.39  4.374 4.366 4.36  4.35\n",
      " 4.332 4.286 4.212 4.189 4.166 4.107 4.085 4.015 3.975 3.973 3.933 3.802\n",
      " 3.775 3.663 3.597 3.488 3.462 3.41  3.38  3.334 3.231 3.203 3.083 2.853]\n"
     ]
    }
   ],
   "source": [
    "print(Y)"
   ]
  },
  {
   "cell_type": "markdown",
   "id": "6ef508b2-b6e9-4c39-b96f-ea3f6bac637d",
   "metadata": {},
   "source": [
    "# Splitting the dataset into training data and testing data"
   ]
  },
  {
   "cell_type": "code",
   "execution_count": 93,
   "id": "fb4683d8-8367-4e29-9e41-69ecd05d47e1",
   "metadata": {},
   "outputs": [],
   "source": [
    "X_train, X_test, Y_train, Y_test = train_test_split(X,Y, test_size = 0.25, random_state = 45)"
   ]
  },
  {
   "cell_type": "markdown",
   "id": "446e49c4-78e1-4eae-bc8a-4886a09a75ab",
   "metadata": {},
   "source": [
    "# Training the linear regression mode"
   ]
  },
  {
   "cell_type": "code",
   "execution_count": 250,
   "id": "443f5dbf-5ab2-4a90-9a72-1a29709df2da",
   "metadata": {},
   "outputs": [],
   "source": [
    "model = Linear_Regression(learning_rate = 0.00001, no_of_iterations = 100000)"
   ]
  },
  {
   "cell_type": "code",
   "execution_count": null,
   "id": "ef4c8964-5b02-493a-b9d1-62cc3af1b318",
   "metadata": {},
   "outputs": [],
   "source": []
  },
  {
   "cell_type": "code",
   "execution_count": 258,
   "id": "41583ce0-1fb4-42d5-bcc9-e912259913a8",
   "metadata": {},
   "outputs": [],
   "source": [
    "model.fit(X_train,Y_train)"
   ]
  },
  {
   "cell_type": "code",
   "execution_count": 259,
   "id": "d49e1159-6b5b-40f4-a9f5-f86321d9d425",
   "metadata": {},
   "outputs": [],
   "source": [
    "import pickle\n"
   ]
  },
  {
   "cell_type": "code",
   "execution_count": 260,
   "id": "0fabb3d0-92b0-4439-8a91-61166a514afc",
   "metadata": {},
   "outputs": [],
   "source": [
    "filename = \"trained_model.sav\"\n",
    "pickle.dump(model, open(filename, 'wb') )"
   ]
  },
  {
   "cell_type": "code",
   "execution_count": 261,
   "id": "abf0b786-a297-48bc-83e8-8ea97aecd852",
   "metadata": {},
   "outputs": [
    {
     "name": "stdout",
     "output_type": "stream",
     "text": [
      "weight = 1.2302738780898916\n",
      "bias =  1.4686549733480032\n",
      "[[1.34  1.587 0.986]\n",
      " [0.745 1.529 0.756]\n",
      " [1.231 1.477 0.713]\n",
      " [1.38  1.624 1.026]\n",
      " [0.96  1.274 0.854]\n",
      " [0.694 1.325 0.835]\n",
      " [0.855 1.475 0.777]\n",
      " [1.043 1.147 0.769]\n",
      " [0.332 1.069 0.443]\n",
      " [1.004 1.383 0.854]\n",
      " [0.366 1.114 0.433]\n",
      " [1.372 1.548 1.036]\n",
      " [1.015 1.401 0.779]\n",
      " [0.921 1.    0.815]\n",
      " [0.323 0.688 0.449]\n",
      " [1.294 1.488 1.039]\n",
      " [0.578 1.058 0.426]\n",
      " [0.949 1.265 0.831]\n",
      " [0.619 0.378 0.44 ]\n",
      " [0.336 1.033 0.532]\n",
      " [0.85  1.055 0.815]\n",
      " [0.931 1.203 0.66 ]\n",
      " [0.306 0.575 0.295]\n",
      " [0.987 1.224 0.815]\n",
      " [1.043 0.98  0.574]\n",
      " [0.611 0.868 0.486]\n",
      " [1.044 1.303 0.673]\n",
      " [1.396 1.522 0.999]\n",
      " [0.71  1.181 0.555]\n",
      " [1.684 1.313 0.871]\n",
      " [0.813 1.321 0.604]\n",
      " [0.794 1.242 0.789]]\n"
     ]
    }
   ],
   "source": [
    "print(\"weight =\", model.w[0])\n",
    "print(\"bias = \", model.b)\n",
    "print(X_test)"
   ]
  },
  {
   "cell_type": "code",
   "execution_count": 262,
   "id": "35a688d7-eb63-459e-9e2c-dcc8bf2899f5",
   "metadata": {},
   "outputs": [],
   "source": [
    "test_data_prediction = model.predict(X_test)"
   ]
  },
  {
   "cell_type": "code",
   "execution_count": 263,
   "id": "826e3e59-2a3c-43db-aab8-8e21de712f77",
   "metadata": {},
   "outputs": [
    {
     "name": "stdout",
     "output_type": "stream",
     "text": [
      "[6.80928318 5.74404123 6.21004819 6.96196424 5.6774642  5.41704192\n",
      " 5.80951162 5.47788774 4.13796519 5.91594474 4.2456784  6.83380875\n",
      " 5.88324607 5.1262046  3.48865259 6.63943814 4.40462902 5.62519622\n",
      " 3.31931882 4.17298767 5.13187504 5.32337453 3.11918594 5.58624729\n",
      " 4.99609171 4.18522628 5.6448128  6.78153618 4.90693168 6.6515216\n",
      " 5.32052182 5.35266679]\n"
     ]
    }
   ],
   "source": [
    "print(test_data_prediction)"
   ]
  },
  {
   "cell_type": "code",
   "execution_count": 270,
   "id": "18a7fae6-dfa9-4c31-bcbd-031312b2cb7b",
   "metadata": {},
   "outputs": [],
   "source": [
    "loaded_model = pickle.load(open(\"trained_model.sav\",\"rb\"))"
   ]
  },
  {
   "cell_type": "code",
   "execution_count": 272,
   "id": "d914152b-963f-4068-a4f7-acb3818f187b",
   "metadata": {},
   "outputs": [],
   "source": [
    "arr = np.array([0.982, 0.79, 1.27])"
   ]
  },
  {
   "cell_type": "code",
   "execution_count": 274,
   "id": "6f55619a-37a2-4cd1-9c68-67f8a62444cd",
   "metadata": {},
   "outputs": [],
   "source": [
    "y = loaded_model.predict(arr)"
   ]
  },
  {
   "cell_type": "code",
   "execution_count": 276,
   "id": "45e26786-0048-4da2-9653-7db7e3efbd94",
   "metadata": {},
   "outputs": [
    {
     "name": "stdout",
     "output_type": "stream",
     "text": [
      "5.311243428491612\n"
     ]
    }
   ],
   "source": [
    "print(y)"
   ]
  },
  {
   "cell_type": "code",
   "execution_count": 278,
   "id": "6b8e0d70-d668-4bef-8660-0dcfa0407615",
   "metadata": {},
   "outputs": [
    {
     "name": "stdout",
     "output_type": "stream",
     "text": [
      "0.824047834177107\n"
     ]
    }
   ],
   "source": [
    "from sklearn.metrics import r2_score\n",
    "s = r2_score(Y_test,test_data_prediction)\n",
    "print(s)"
   ]
  },
  {
   "cell_type": "code",
   "execution_count": null,
   "id": "03da59e8-bf39-492d-b7af-cd01479de49d",
   "metadata": {},
   "outputs": [],
   "source": []
  },
  {
   "cell_type": "code",
   "execution_count": null,
   "id": "911fcc34-9002-422b-9f34-8c8fccf992d9",
   "metadata": {},
   "outputs": [],
   "source": []
  },
  {
   "cell_type": "code",
   "execution_count": null,
   "id": "2ddc68ed-2c11-400e-bcd9-4bc0ccc16b71",
   "metadata": {},
   "outputs": [],
   "source": []
  }
 ],
 "metadata": {
  "kernelspec": {
   "display_name": "Python 3 (ipykernel)",
   "language": "python",
   "name": "python3"
  },
  "language_info": {
   "codemirror_mode": {
    "name": "ipython",
    "version": 3
   },
   "file_extension": ".py",
   "mimetype": "text/x-python",
   "name": "python",
   "nbconvert_exporter": "python",
   "pygments_lexer": "ipython3",
   "version": "3.12.4"
  }
 },
 "nbformat": 4,
 "nbformat_minor": 5
}
